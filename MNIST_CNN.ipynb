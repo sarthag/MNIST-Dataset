{
  "nbformat": 4,
  "nbformat_minor": 0,
  "metadata": {
    "kernelspec": {
      "display_name": "Python 3",
      "language": "python",
      "name": "python3"
    },
    "language_info": {
      "codemirror_mode": {
        "name": "ipython",
        "version": 3
      },
      "file_extension": ".py",
      "mimetype": "text/x-python",
      "name": "python",
      "nbconvert_exporter": "python",
      "pygments_lexer": "ipython3",
      "version": "3.8.5"
    },
    "colab": {
      "name": "MNIST_CNN.ipynb",
      "provenance": [],
      "collapsed_sections": [],
      "include_colab_link": true
    }
  },
  "cells": [
    {
      "cell_type": "markdown",
      "metadata": {
        "id": "view-in-github",
        "colab_type": "text"
      },
      "source": [
        "<a href=\"https://colab.research.google.com/github/sarthag/MNIST-Dataset/blob/main/MNIST_CNN.ipynb\" target=\"_parent\"><img src=\"https://colab.research.google.com/assets/colab-badge.svg\" alt=\"Open In Colab\"/></a>"
      ]
    },
    {
      "cell_type": "code",
      "metadata": {
        "id": "Zxr8Tb3xgM7y"
      },
      "source": [
        "import numpy as np\n",
        "import torch\n",
        "import torch.nn as nn\n",
        "import torch.optim as optim\n",
        "import torch.nn.functional as F\n",
        "from torch.utils.data import DataLoader\n",
        "from sklearn.datasets import fetch_openml\n",
        "from sklearn.model_selection import train_test_split\n",
        "import torchvision.transforms as transforms\n",
        "from torch.utils.data.dataset import TensorDataset\n",
        "import time"
      ],
      "execution_count": 1,
      "outputs": []
    },
    {
      "cell_type": "code",
      "metadata": {
        "id": "6xGtncLvgM8U"
      },
      "source": [
        "class CNN(nn.Module):\n",
        "    def __init__(self, in_channel =1, num_classes = 10):\n",
        "        super(CNN, self).__init__()\n",
        "        self.conv1 = nn.Conv2d(in_channels = 1, out_channels = 8, kernel_size = (3,3), stride = (1,1), padding = (1,1))\n",
        "        self.pool = nn.MaxPool2d(kernel_size= (2,2), stride = (2,2))\n",
        "        self.conv2 = nn.Conv2d(in_channels = 8, out_channels = 16, kernel_size = (3,3), stride = (1,1), padding = (1,1))\n",
        "        self.fc1 = nn.Linear(16*7*7, num_classes)\n",
        "    \n",
        "    def forward(self, x):\n",
        "        x = F.relu((self.conv1(x)))\n",
        "        x = self.pool(x)\n",
        "        x = self.conv2(x)\n",
        "        x = self.pool(x)\n",
        "        x = x.reshape(x.shape[0], -1)\n",
        "        x = self.fc1(x)\n",
        "        return(x)"
      ],
      "execution_count": 2,
      "outputs": []
    },
    {
      "cell_type": "code",
      "metadata": {
        "id": "NPgHaXhPg7nl"
      },
      "source": [
        "device = torch.device(\"cuda\" if torch.cuda.is_available() else \"cpu\") "
      ],
      "execution_count": 3,
      "outputs": []
    },
    {
      "cell_type": "code",
      "metadata": {
        "colab": {
          "base_uri": "https://localhost:8080/"
        },
        "id": "SkfdPy8KgM8Y",
        "outputId": "71271e05-815f-4a5b-8528-22ffe3def0ea"
      },
      "source": [
        "#Basic Test\n",
        "model = CNN()\n",
        "x = torch.randn(64,1,28,28)\n",
        "model = model.to(device)\n",
        "x = x.to(device)\n",
        "start = time.process_time()\n",
        "print(model(x).shape)\n",
        "end = time.process_time()\n",
        "print(\"time: \", end - start)"
      ],
      "execution_count": 4,
      "outputs": [
        {
          "output_type": "stream",
          "text": [
            "torch.Size([64, 10])\n",
            "time:  0.013935892999999755\n"
          ],
          "name": "stdout"
        }
      ]
    },
    {
      "cell_type": "code",
      "metadata": {
        "id": "Muyd3DpAgM8e"
      },
      "source": [
        "#parameters\n",
        "in_channel = 1\n",
        "num_classes = 10\n",
        "learning_rate = 0.001\n",
        "batch_size = 64\n",
        "num_epochs = 25"
      ],
      "execution_count": 5,
      "outputs": []
    },
    {
      "cell_type": "code",
      "metadata": {
        "colab": {
          "base_uri": "https://localhost:8080/"
        },
        "id": "I430lE7YgM8g",
        "outputId": "f2fd6002-7585-4561-cb8a-e598ec31aa0d"
      },
      "source": [
        "#loading the data\n",
        "\n",
        "X,y = fetch_openml(\"mnist_784\", version = 1, return_X_y = True)\n",
        "\n",
        "X = X.astype(np.float32)\n",
        "y = np.int_(y)\n",
        "X = X.reshape(X.shape[0], 1, 28, 28)\n",
        "print(X.shape, y.shape)"
      ],
      "execution_count": 6,
      "outputs": [
        {
          "output_type": "stream",
          "text": [
            "(70000, 1, 28, 28) (70000,)\n"
          ],
          "name": "stdout"
        }
      ]
    },
    {
      "cell_type": "code",
      "metadata": {
        "id": "v6Fb0TDbgM8j"
      },
      "source": [
        "X_tensor = torch.from_numpy(X)\n",
        "y_tensor = torch.from_numpy(y)\n",
        "y_tensor = y_tensor.type(torch.LongTensor)\n",
        "X_train, X_test, y_train, y_test = train_test_split(X_tensor,y_tensor, test_size = (1/7), random_state = 42)"
      ],
      "execution_count": 7,
      "outputs": []
    },
    {
      "cell_type": "code",
      "metadata": {
        "id": "3B-9dBzNhVlI"
      },
      "source": [
        "train_dataset = TensorDataset(X_train, y_train)\n",
        "train_loader = DataLoader(train_dataset, batch_size = batch_size, shuffle = True)\n",
        "test_dataset = TensorDataset(X_test, y_test)\n",
        "test_loader = DataLoader(test_dataset, batch_size = batch_size, shuffle = True)"
      ],
      "execution_count": 8,
      "outputs": []
    },
    {
      "cell_type": "code",
      "metadata": {
        "id": "PfVUru6CgM8l"
      },
      "source": [
        "#initialise network\n",
        "model = CNN()\n",
        "loss_fun = nn.CrossEntropyLoss()\n",
        "optimizer = optim.Adam(model.parameters(), lr = learning_rate) "
      ],
      "execution_count": 9,
      "outputs": []
    },
    {
      "cell_type": "code",
      "metadata": {
        "id": "yawwX7d6igfS"
      },
      "source": [
        "def chk_accuracy(loader, model):\n",
        "    \n",
        "  num_correct = 0\n",
        "  num_samples = 0\n",
        "  model.eval()\n",
        "    \n",
        "  with torch.no_grad():\n",
        "    for x, y in loader:\n",
        "      x = x.to(device = device)\n",
        "      y = y.to(device = device)\n",
        "      scores = model(x)\n",
        "      predictions = scores.argmax(1)\n",
        "      num_correct += sum((predictions == y))\n",
        "      num_samples += predictions.size(0)\n",
        "            \n",
        "    return float(num_correct)/float(num_samples)"
      ],
      "execution_count": 10,
      "outputs": []
    },
    {
      "cell_type": "code",
      "metadata": {
        "colab": {
          "base_uri": "https://localhost:8080/"
        },
        "id": "D5YGoSvigM8n",
        "outputId": "0b67ec65-18d7-49cb-bb7f-3984ae8a084d"
      },
      "source": [
        "#Train the network\n",
        "for epoch in range(num_epochs):\n",
        "    model.train()\n",
        "    if torch.cuda.is_available(): torch.cuda.empty_cache()\n",
        "    model = model.to(device = device)\n",
        "\n",
        "    loss_train = 0\n",
        "    start = time.process_time()\n",
        "    for batch, (data, targets) in enumerate(train_loader):\n",
        "      data = data.to(device = device)\n",
        "      targets = targets.to(device= device)\n",
        "        \n",
        "      #Forward Prop\n",
        "      scores = model(data)\n",
        "      loss = loss_fun(scores, targets)\n",
        "        \n",
        "      #Back prop\n",
        "      optimizer.zero_grad()\n",
        "      loss.backward()\n",
        "      loss_train += loss.item()\n",
        "\n",
        "      #Optimizer\n",
        "      optimizer.step()\n",
        "\n",
        "    train_acc = chk_accuracy(train_loader, model)\n",
        "    val_acc = chk_accuracy(test_loader, model)\n",
        "    avg_loss = loss_train/(len(train_loader))\n",
        "    end = time.process_time()\n",
        "\n",
        "    print('Epoch ({}/{}),Training loss : {:.4f}, Time: {:.2f}, train_accuracy:{:.4f}, val_accuracy:{:.4f}'.format(epoch+1, num_epochs, avg_loss, end - start, train_acc, val_acc))\n",
        "                                "
      ],
      "execution_count": 11,
      "outputs": [
        {
          "output_type": "stream",
          "text": [
            "Epoch (1/25),Training loss : 0.6607, Time: 20.95, train_accuracy:0.9639, val_accuracy:0.9582\n",
            "Epoch (2/25),Training loss : 0.1243, Time: 20.96, train_accuracy:0.9769, val_accuracy:0.9667\n",
            "Epoch (3/25),Training loss : 0.0932, Time: 20.80, train_accuracy:0.9797, val_accuracy:0.9708\n",
            "Epoch (4/25),Training loss : 0.0732, Time: 20.59, train_accuracy:0.9840, val_accuracy:0.9736\n",
            "Epoch (5/25),Training loss : 0.0687, Time: 20.38, train_accuracy:0.9844, val_accuracy:0.9727\n",
            "Epoch (6/25),Training loss : 0.0589, Time: 20.59, train_accuracy:0.9857, val_accuracy:0.9730\n",
            "Epoch (7/25),Training loss : 0.0553, Time: 20.62, train_accuracy:0.9889, val_accuracy:0.9775\n",
            "Epoch (8/25),Training loss : 0.0526, Time: 20.49, train_accuracy:0.9887, val_accuracy:0.9747\n",
            "Epoch (9/25),Training loss : 0.0471, Time: 20.62, train_accuracy:0.9875, val_accuracy:0.9752\n",
            "Epoch (10/25),Training loss : 0.0436, Time: 20.65, train_accuracy:0.9899, val_accuracy:0.9782\n",
            "Epoch (11/25),Training loss : 0.0423, Time: 21.68, train_accuracy:0.9829, val_accuracy:0.9723\n",
            "Epoch (12/25),Training loss : 0.0391, Time: 21.36, train_accuracy:0.9934, val_accuracy:0.9786\n",
            "Epoch (13/25),Training loss : 0.0335, Time: 21.12, train_accuracy:0.9917, val_accuracy:0.9791\n",
            "Epoch (14/25),Training loss : 0.0354, Time: 21.20, train_accuracy:0.9890, val_accuracy:0.9772\n",
            "Epoch (15/25),Training loss : 0.0347, Time: 20.96, train_accuracy:0.9914, val_accuracy:0.9777\n",
            "Epoch (16/25),Training loss : 0.0326, Time: 20.94, train_accuracy:0.9866, val_accuracy:0.9721\n",
            "Epoch (17/25),Training loss : 0.0332, Time: 21.49, train_accuracy:0.9896, val_accuracy:0.9751\n",
            "Epoch (18/25),Training loss : 0.0318, Time: 21.12, train_accuracy:0.9926, val_accuracy:0.9780\n",
            "Epoch (19/25),Training loss : 0.0281, Time: 21.35, train_accuracy:0.9925, val_accuracy:0.9795\n",
            "Epoch (20/25),Training loss : 0.0260, Time: 21.57, train_accuracy:0.9935, val_accuracy:0.9780\n",
            "Epoch (21/25),Training loss : 0.0324, Time: 21.81, train_accuracy:0.9933, val_accuracy:0.9769\n",
            "Epoch (22/25),Training loss : 0.0288, Time: 21.45, train_accuracy:0.9924, val_accuracy:0.9763\n",
            "Epoch (23/25),Training loss : 0.0274, Time: 21.58, train_accuracy:0.9957, val_accuracy:0.9805\n",
            "Epoch (24/25),Training loss : 0.0234, Time: 21.40, train_accuracy:0.9932, val_accuracy:0.9781\n",
            "Epoch (25/25),Training loss : 0.0277, Time: 21.25, train_accuracy:0.9936, val_accuracy:0.9785\n"
          ],
          "name": "stdout"
        }
      ]
    }
  ]
}