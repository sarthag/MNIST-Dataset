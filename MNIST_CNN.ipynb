{
 "cells": [
  {
   "cell_type": "code",
   "execution_count": 1,
   "metadata": {},
   "outputs": [],
   "source": [
    "import numpy as np\n",
    "import torch\n",
    "import torch.nn as nn\n",
    "import torch.optim as optim\n",
    "import torch.nn.functional as F\n",
    "from torch.utils.data import DataLoader\n",
    "from sklearn.datasets import fetch_openml\n",
    "from sklearn.model_selection import train_test_split\n",
    "import torchvision.transforms as transforms"
   ]
  },
  {
   "cell_type": "code",
   "execution_count": 2,
   "metadata": {},
   "outputs": [],
   "source": [
    "class CNN(nn.Module):\n",
    "    def __init__(self, in_channel =1, num_classes = 10):\n",
    "        super(CNN, self).__init__()\n",
    "        self.conv1 = nn.Conv2d(in_channels = 1, out_channels = 8, kernel_size = (3,3), stride = (1,1), padding = (1,1))\n",
    "        self.pool = nn.MaxPool2d(kernel_size= (2,2), stride = (2,2))\n",
    "        self.conv2 = nn.Conv2d(in_channels = 8, out_channels = 16, kernel_size = (3,3), stride = (1,1), padding = (1,1))\n",
    "        self.fc1 = nn.Linear(16*7*7, num_classes)\n",
    "    \n",
    "    def forward(self, x):\n",
    "        x = self.conv1(x)\n",
    "        x = F.relu(x)\n",
    "        x = self.pool(x)\n",
    "        x = self.conv2(x)\n",
    "        x = self.pool(x)\n",
    "        x = x.reshape(x.shape[0], -1)\n",
    "        x = self.fc1(x)\n",
    "        return(x)"
   ]
  },
  {
   "cell_type": "code",
   "execution_count": 3,
   "metadata": {},
   "outputs": [
    {
     "name": "stdout",
     "output_type": "stream",
     "text": [
      "torch.Size([64, 10])\n"
     ]
    }
   ],
   "source": [
    "#Basic Test\n",
    "model = CNN()\n",
    "x = torch.randn(64,1,28,28)\n",
    "print(model(x).shape)"
   ]
  },
  {
   "cell_type": "code",
   "execution_count": 4,
   "metadata": {},
   "outputs": [],
   "source": [
    "#parameters\n",
    "in_channel = 1\n",
    "num_classes = 10\n",
    "learning_rate = 0.001\n",
    "batch_size = 64\n",
    "num_ephocs = 10"
   ]
  },
  {
   "cell_type": "code",
   "execution_count": 5,
   "metadata": {},
   "outputs": [
    {
     "name": "stdout",
     "output_type": "stream",
     "text": [
      "(70000, 1, 28, 28) (70000,)\n"
     ]
    }
   ],
   "source": [
    "#loading the data\n",
    "\n",
    "X,y = fetch_openml(\"mnist_784\", version = 1, return_X_y = True)\n",
    "\n",
    "X = X.astype(np.float32)\n",
    "y = np.int_(y)\n",
    "X = X.reshape(X.shape[0], 1, 28, 28)\n",
    "print(X.shape, y.shape)"
   ]
  },
  {
   "cell_type": "code",
   "execution_count": 6,
   "metadata": {},
   "outputs": [],
   "source": [
    "X_tensor = torch.from_numpy(X)\n",
    "y_tensor = torch.from_numpy(y)\n",
    "y_tensor = y_tensor.type(torch.LongTensor)\n",
    "X_train, X_test, y_train, y_test = train_test_split(X_tensor,y_tensor, test_size = (1/7), random_state = 42)"
   ]
  },
  {
   "cell_type": "code",
   "execution_count": 7,
   "metadata": {},
   "outputs": [],
   "source": [
    "#initialise network\n",
    "model = CNN()\n",
    "loss_fun = nn.CrossEntropyLoss()\n",
    "optimizer = optim.Adam(model.parameters(), lr = learning_rate) "
   ]
  },
  {
   "cell_type": "code",
   "execution_count": 8,
   "metadata": {},
   "outputs": [],
   "source": [
    "#Train the network\n",
    "for epoch in range(num_ephocs):\n",
    "    batch = 0\n",
    "    while batch < len(y_train) - 64:\n",
    "        batch_next = batch+64\n",
    "        data = X_train[batch: batch_next]\n",
    "        targets = y_train[batch: batch_next]\n",
    "        batch = batch_next\n",
    "        \n",
    "        #Forward Prop\n",
    "        scores = model(data)\n",
    "        loss = loss_fun(scores, targets)\n",
    "        \n",
    "        #Back prop\n",
    "        optimizer.zero_grad()\n",
    "        loss.backward()\n",
    "        \n",
    "        #Optimizer\n",
    "        optimizer.step()"
   ]
  },
  {
   "cell_type": "code",
   "execution_count": 9,
   "metadata": {},
   "outputs": [],
   "source": [
    "def chk_accuracy(X_inp, y_inp, model):\n",
    "    \n",
    "    batch = 0\n",
    "    num_correct = 0\n",
    "    num_samples = len(y_inp) - len(y_inp)%64\n",
    "    with torch.no_grad():\n",
    "        while batch < len(y_inp) - 64:\n",
    "            batch_next = batch+64\n",
    "            x = X_inp[batch: batch_next]\n",
    "            y = y_inp[batch: batch_next]\n",
    "            batch = batch_next\n",
    "\n",
    "            scores = model(x)\n",
    "            predictions = scores.argmax(1)\n",
    "            num_correct += sum((predictions == y))\n",
    "            \n",
    "        return float(num_correct)/float(num_samples)"
   ]
  },
  {
   "cell_type": "code",
   "execution_count": 10,
   "metadata": {},
   "outputs": [
    {
     "name": "stdout",
     "output_type": "stream",
     "text": [
      "Train Accuracy: 0.988593916755603\n",
      "Test Accuracy: 0.9742588141025641\n"
     ]
    }
   ],
   "source": [
    "print(\"Train Accuracy:\", chk_accuracy(X_train, y_train, model))\n",
    "print(\"Test Accuracy:\", chk_accuracy(X_test, y_test, model))"
   ]
  }
 ],
 "metadata": {
  "kernelspec": {
   "display_name": "Python 3",
   "language": "python",
   "name": "python3"
  },
  "language_info": {
   "codemirror_mode": {
    "name": "ipython",
    "version": 3
   },
   "file_extension": ".py",
   "mimetype": "text/x-python",
   "name": "python",
   "nbconvert_exporter": "python",
   "pygments_lexer": "ipython3",
   "version": "3.8.5"
  }
 },
 "nbformat": 4,
 "nbformat_minor": 4
}
