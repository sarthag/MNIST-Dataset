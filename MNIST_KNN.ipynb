{
 "cells": [
  {
   "cell_type": "code",
   "execution_count": 1,
   "metadata": {
    "id": "mkAOv5weqiwS"
   },
   "outputs": [],
   "source": [
    "import numpy as np\n",
    "import pandas as pd\n",
    "from sklearn.datasets import fetch_openml"
   ]
  },
  {
   "cell_type": "code",
   "execution_count": 2,
   "metadata": {
    "id": "u9OFrJtsq4ey"
   },
   "outputs": [],
   "source": [
    "X,y = fetch_openml(\"mnist_784\", version = 1, return_X_y = True)\n",
    "\n",
    "X = np.array(X)\n",
    "y = np.int_(y)"
   ]
  },
  {
   "cell_type": "code",
   "execution_count": 3,
   "metadata": {
    "colab": {
     "base_uri": "https://localhost:8080/"
    },
    "id": "dpTjAPj0uBiY",
    "outputId": "4f24aa14-7e91-4032-9cfb-5b5a3fc8acc3"
   },
   "outputs": [
    {
     "name": "stdout",
     "output_type": "stream",
     "text": [
      "60000 10000\n",
      "10000 2000\n"
     ]
    }
   ],
   "source": [
    "from sklearn.model_selection import train_test_split\n",
    "\n",
    "X_train, X_test, y_train, y_test = train_test_split(X,y, test_size = (1/7), random_state = 42)\n",
    "print(len(X_train), len(X_test))\n",
    "\n",
    "X_train1, X_train2, y_train1, y_train2 = X_train[:10000],X_train[10000:12000], y_train[:10000], y_train[10000:12000]\n",
    "print(len(X_train1), len(X_train2))\n"
   ]
  },
  {
   "cell_type": "code",
   "execution_count": 4,
   "metadata": {
    "id": "JOqpAnpMuIXK"
   },
   "outputs": [],
   "source": [
    "def euc_dist(a,b):\n",
    "  dist = np.sqrt(np.sum((a-b)**2, axis = 1))\n",
    "  return dist"
   ]
  },
  {
   "cell_type": "code",
   "execution_count": 14,
   "metadata": {
    "id": "-B6co42UVHTU"
   },
   "outputs": [],
   "source": [
    "def KNN(X_known, X_test, y_known, k):\n",
    "    predictions = []\n",
    "    \n",
    "    \n",
    "    for i in range(len(X_test)):\n",
    "        distances = euc_dist(X_known, X_test[i])\n",
    "        df = pd.DataFrame(np.transpose(distances), columns = [\"Distances\"])\n",
    "        df[\"Values\"] = np.transpose(y_known)\n",
    "\n",
    "        df.sort_values(by = 'Distances', ascending = True, inplace = True)\n",
    "        arr = np.array(df.head(k)[\"Values\"].values)\n",
    "        bin = np.zeros(10)\n",
    "        for j in range(k):\n",
    "            p = arr[j]\n",
    "            bin[p] += 1\n",
    "            \n",
    "        if max(bin) == 1:\n",
    "            predictions.append(arr[0])\n",
    "            \n",
    "        else:\n",
    "            ans = bin.argmax() \n",
    "            predictions.append(ans)  \n",
    "\n",
    "\n",
    "    return np.array(predictions)           "
   ]
  },
  {
   "cell_type": "code",
   "execution_count": 15,
   "metadata": {
    "id": "V1qvtJJVBzP4"
   },
   "outputs": [],
   "source": [
    "def score(predictions, actual):\n",
    "    ln = len(actual)\n",
    "    scr = predictions - actual\n",
    "    count = np.count_nonzero(scr)\n",
    "  \n",
    "    return 1 - count/ln\n"
   ]
  },
  {
   "cell_type": "code",
   "execution_count": 16,
   "metadata": {
    "colab": {
     "base_uri": "https://localhost:8080/"
    },
    "id": "qg9dqVtZfkF7",
    "outputId": "58e9909b-86be-4e6c-a853-0155207103e6"
   },
   "outputs": [
    {
     "name": "stdout",
     "output_type": "stream",
     "text": [
      "For k =  1  score =  0.9585\n",
      "For k =  3  score =  0.951\n"
     ]
    }
   ],
   "source": [
    "for k in (3):\n",
    "    preds = KNN(X_train1, X_train2, y_train1, k)\n",
    "    scr = score(preds, y_train2)\n",
    "    print(\"For k = \", k,\" score = \",scr)"
   ]
  }
 ],
 "metadata": {
  "colab": {
   "collapsed_sections": [],
   "name": "MNIST",
   "provenance": []
  },
  "kernelspec": {
   "display_name": "Python 3",
   "language": "python",
   "name": "python3"
  },
  "language_info": {
   "codemirror_mode": {
    "name": "ipython",
    "version": 3
   },
   "file_extension": ".py",
   "mimetype": "text/x-python",
   "name": "python",
   "nbconvert_exporter": "python",
   "pygments_lexer": "ipython3",
   "version": "3.8.5"
  }
 },
 "nbformat": 4,
 "nbformat_minor": 1
}
