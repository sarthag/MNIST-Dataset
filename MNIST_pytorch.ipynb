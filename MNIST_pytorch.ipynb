{
 "cells": [
  {
   "cell_type": "code",
   "execution_count": 1,
   "metadata": {},
   "outputs": [],
   "source": [
    "import numpy as np\n",
    "import torch\n",
    "import torch.nn as nn\n",
    "import torch.optim as optim\n",
    "import torch.nn.functional as F\n",
    "from torch.utils.data import DataLoader\n",
    "from sklearn.datasets import fetch_openml\n",
    "from sklearn.model_selection import train_test_split\n",
    "import torchvision.transforms as transforms"
   ]
  },
  {
   "cell_type": "code",
   "execution_count": 2,
   "metadata": {},
   "outputs": [],
   "source": [
    "#define the NN model\n",
    "class NN(nn.Module):\n",
    "  def __init__(self, input_size, num_classes):\n",
    "    super(NN, self).__init__()\n",
    "    self.fc1 = nn.Linear(input_size, 50)\n",
    "    self.fc2 = nn.Linear(50, num_classes)\n",
    "\n",
    "  def forward(self, x):\n",
    "    x = F.relu(self.fc1(x))\n",
    "    x = self.fc2(x)\n",
    "    return x"
   ]
  },
  {
   "cell_type": "code",
   "execution_count": 3,
   "metadata": {},
   "outputs": [
    {
     "name": "stdout",
     "output_type": "stream",
     "text": [
      "torch.Size([64, 10])\n"
     ]
    }
   ],
   "source": [
    "#basic test on the model\n",
    "model = NN(784 ,10)\n",
    "x = torch.randn(64, 784)\n",
    "print(model(x).shape)"
   ]
  },
  {
   "cell_type": "code",
   "execution_count": 4,
   "metadata": {},
   "outputs": [],
   "source": [
    "#parameters\n",
    "input_size = 784\n",
    "num_classes = 10\n",
    "learning_rate = 0.001\n",
    "batch_size = 64\n",
    "num_ephocs = 100"
   ]
  },
  {
   "cell_type": "code",
   "execution_count": 5,
   "metadata": {},
   "outputs": [],
   "source": [
    "#loading the data\n",
    "\n",
    "X,y = fetch_openml(\"mnist_784\", version = 1, return_X_y = True)\n",
    "\n",
    "X = X.astype(np.float32)\n",
    "y = np.int_(y)"
   ]
  },
  {
   "cell_type": "code",
   "execution_count": 6,
   "metadata": {},
   "outputs": [],
   "source": [
    "X_tensor = torch.from_numpy(X)\n",
    "y_tensor = torch.from_numpy(y)\n",
    "y_tensor = y_tensor.type(torch.LongTensor)\n",
    "X_train, X_test, y_train, y_test = train_test_split(X_tensor,y_tensor, test_size = (1/7), random_state = 42)"
   ]
  },
  {
   "cell_type": "code",
   "execution_count": 7,
   "metadata": {},
   "outputs": [],
   "source": [
    "#initialise network\n",
    "model = NN(input_size, num_classes)\n",
    "loss_fun = nn.CrossEntropyLoss()\n",
    "optimizer = optim.Adam(model.parameters(), lr = learning_rate) "
   ]
  },
  {
   "cell_type": "code",
   "execution_count": 8,
   "metadata": {},
   "outputs": [],
   "source": [
    "#Train the network\n",
    "for epoch in range(num_ephocs):\n",
    "    batch = 0\n",
    "    while batch < len(y_train) - 64:\n",
    "        batch_next = batch+64\n",
    "        data = X_train[batch: batch_next]\n",
    "        targets = y_train[batch: batch_next]\n",
    "        batch = batch_next\n",
    "\n",
    "        \n",
    "        #Forward Prop\n",
    "        scores = model(data)\n",
    "        loss = loss_fun(scores, targets)\n",
    "        \n",
    "        #Back prop\n",
    "        optimizer.zero_grad()\n",
    "        loss.backward()\n",
    "        \n",
    "        #Optimizer\n",
    "        optimizer.step()"
   ]
  },
  {
   "cell_type": "code",
   "execution_count": 9,
   "metadata": {},
   "outputs": [],
   "source": [
    "def chk_accuracy(X_inp, y_inp, model):\n",
    "    \n",
    "    batch = 0\n",
    "    num_correct = 0\n",
    "    num_samples = len(y_inp) - len(y_inp)%64\n",
    "    with torch.no_grad():\n",
    "        while batch < len(y_inp) - 64:\n",
    "            batch_next = batch+64\n",
    "            x = X_inp[batch: batch_next]\n",
    "            y = y_inp[batch: batch_next]\n",
    "            batch = batch_next\n",
    "\n",
    "            scores = model(x)\n",
    "            predictions = scores.argmax(1)\n",
    "            num_correct += sum((predictions == y))\n",
    "            \n",
    "        return float(num_correct)/float(num_samples)"
   ]
  },
  {
   "cell_type": "code",
   "execution_count": 10,
   "metadata": {},
   "outputs": [
    {
     "name": "stdout",
     "output_type": "stream",
     "text": [
      "Train Accuracy: 0.9761039220917823\n",
      "Test Accuracy: 0.9421073717948718\n"
     ]
    }
   ],
   "source": [
    "print(\"Train Accuracy:\", chk_accuracy(X_train, y_train, model))\n",
    "print(\"Test Accuracy:\", chk_accuracy(X_test, y_test, model))"
   ]
  }
 ],
 "metadata": {
  "kernelspec": {
   "display_name": "Python 3",
   "language": "python",
   "name": "python3"
  },
  "language_info": {
   "codemirror_mode": {
    "name": "ipython",
    "version": 3
   },
   "file_extension": ".py",
   "mimetype": "text/x-python",
   "name": "python",
   "nbconvert_exporter": "python",
   "pygments_lexer": "ipython3",
   "version": "3.8.5"
  }
 },
 "nbformat": 4,
 "nbformat_minor": 4
}
